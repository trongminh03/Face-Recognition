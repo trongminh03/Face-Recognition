{
 "cells": [
  {
   "cell_type": "code",
   "execution_count": 17,
   "metadata": {},
   "outputs": [],
   "source": [
    "import cv2\n",
    "import os\n",
    "from time import time\n",
    "import numpy as np\n",
    "from sklearn.model_selection import train_test_split\n",
    "from sklearn.svm import SVC\n",
    "from sklearn.metrics import accuracy_score\n",
    "from sklearn.decomposition import PCA\n",
    "from sklearn.pipeline import make_pipeline\n",
    "from sklearn.preprocessing import LabelEncoder\n",
    "from sklearn.metrics import classification_report\n",
    "from sklearn.metrics import confusion_matrix\n",
    "from sklearn.model_selection import GridSearchCV\n",
    "from sklearn.datasets import fetch_lfw_people\n"
   ]
  },
  {
   "cell_type": "code",
   "execution_count": 19,
   "metadata": {},
   "outputs": [
    {
     "name": "stdout",
     "output_type": "stream",
     "text": [
      "sample features 1939 4096\n"
     ]
    }
   ],
   "source": [
    "dataset_path = '../dataset/train' \n",
    "image_size = (64, 64) \n",
    "\n",
    "images = [] \n",
    "labels = []\n",
    "\n",
    "for person_name in os.listdir(dataset_path): \n",
    "    person_path = os.path.join(dataset_path, person_name) \n",
    "    for img_name in os.listdir(person_path): \n",
    "        img_path = os.path.join(person_path, img_name)\n",
    "        img = cv2.imread(img_path) \n",
    "        image = cv2.resize(img, image_size)\n",
    "        image = cv2.cvtColor(image, cv2.COLOR_BGR2GRAY)  # convert to grayscale\n",
    "        images.append(image.flatten())\n",
    "        labels.append(person_name)\n",
    "\n",
    "X = np.array(images)   \n",
    "y = np.array(labels) \n",
    "print(\"sample\", \"features\", X.shape[0], X.shape[1])"
   ]
  },
  {
   "cell_type": "code",
   "execution_count": 20,
   "metadata": {},
   "outputs": [
    {
     "name": "stdout",
     "output_type": "stream",
     "text": [
      "Projecting the input data on the eigenfaces orthonormal basis\n"
     ]
    }
   ],
   "source": [
    "X_train, X_test, y_train, y_test = train_test_split(X, y, test_size=0.2, random_state=42)\n",
    "\n",
    "n_components = 150\n",
    "# pca = PCA(n_components=n_components, whiten=True)\n",
    "pca = PCA(n_components=n_components, svd_solver='randomized', whiten=True)\n",
    "pca.fit(X)\n",
    "\n",
    "print(\"Projecting the input data on the eigenfaces orthonormal basis\")\n",
    "X_train_pca = pca.transform(X_train)\n",
    "X_test_pca = pca.transform(X_test) "
   ]
  },
  {
   "cell_type": "code",
   "execution_count": 21,
   "metadata": {},
   "outputs": [
    {
     "name": "stdout",
     "output_type": "stream",
     "text": [
      "Best estimator found by grid search:\n",
      "SVC(C=1000.0, class_weight='balanced', gamma=0.005)\n"
     ]
    }
   ],
   "source": [
    "param_grid = {'C': [1e3, 5e3, 1e4, 5e4, 1e5],\n",
    "              'gamma': [0.0001, 0.0005, 0.001, 0.005, 0.01, 0.1], }\n",
    "# param_grid = {'svc__C': [1, 5, 10,50], 'svc__gamma': [0.0001, 0.0005, 0.001, 0.005]}\n",
    "clf = GridSearchCV(\n",
    "    SVC(kernel ='rbf', class_weight ='balanced'), param_grid\n",
    ") \n",
    "clf = clf.fit(X_train_pca, y_train)\n",
    "print(\"Best estimator found by grid search:\")\n",
    "print(clf.best_estimator_)"
   ]
  },
  {
   "cell_type": "code",
   "execution_count": 22,
   "metadata": {},
   "outputs": [
    {
     "name": "stdout",
     "output_type": "stream",
     "text": [
      "Predicting people's names on the test set\n",
      "Accuracy: 0.16752577319587628\n"
     ]
    }
   ],
   "source": [
    "print(\"Predicting people's names on the test set\")\n",
    "y_pred = clf.predict(X_test_pca)\n",
    "\n",
    "# # Train an SVM classifier on the reduced data\n",
    "svc = SVC(kernel='rbf', class_weight='balanced')\n",
    "clf = make_pipeline(pca, svc)\n",
    "clf.fit(X_train, y_train)\n",
    "\n",
    "# Test the classifier on the testing set\n",
    "y_pred = clf.predict(X_test)\n",
    "accuracy = accuracy_score(y_test, y_pred)\n",
    "print(\"Accuracy:\", accuracy) "
   ]
  },
  {
   "cell_type": "code",
   "execution_count": 27,
   "metadata": {},
   "outputs": [
    {
     "ename": "error",
     "evalue": "OpenCV(4.7.0) D:\\a\\opencv-python\\opencv-python\\opencv\\modules\\objdetect\\src\\cascadedetect.cpp:1689: error: (-215:Assertion failed) !empty() in function 'cv::CascadeClassifier::detectMultiScale'\n",
     "output_type": "error",
     "traceback": [
      "\u001b[1;31m---------------------------------------------------------------------------\u001b[0m",
      "\u001b[1;31merror\u001b[0m                                     Traceback (most recent call last)",
      "Cell \u001b[1;32mIn[27], line 11\u001b[0m\n\u001b[0;32m      8\u001b[0m \u001b[39mwhile\u001b[39;00m \u001b[39mTrue\u001b[39;00m: \n\u001b[0;32m      9\u001b[0m     \u001b[39m# ret, frame = cap.read()\u001b[39;00m\n\u001b[0;32m     10\u001b[0m     gray \u001b[39m=\u001b[39m cv2\u001b[39m.\u001b[39mcvtColor(img, cv2\u001b[39m.\u001b[39mCOLOR_BGR2GRAY)\n\u001b[1;32m---> 11\u001b[0m     faces \u001b[39m=\u001b[39m face_cascade\u001b[39m.\u001b[39;49mdetectMultiScale(gray, scaleFactor\u001b[39m=\u001b[39;49m\u001b[39m1.2\u001b[39;49m, minNeighbors\u001b[39m=\u001b[39;49m\u001b[39m5\u001b[39;49m)\n\u001b[0;32m     12\u001b[0m     \u001b[39mfor\u001b[39;00m (x, y, w, h) \u001b[39min\u001b[39;00m faces:\n\u001b[0;32m     13\u001b[0m         face \u001b[39m=\u001b[39m gray[y:y\u001b[39m+\u001b[39mh, x:x\u001b[39m+\u001b[39mw]\n",
      "\u001b[1;31merror\u001b[0m: OpenCV(4.7.0) D:\\a\\opencv-python\\opencv-python\\opencv\\modules\\objdetect\\src\\cascadedetect.cpp:1689: error: (-215:Assertion failed) !empty() in function 'cv::CascadeClassifier::detectMultiScale'\n"
     ]
    }
   ],
   "source": [
    "# Use the classifier to recognize faces in an input image\n",
    "face_cascade = cv2.CascadeClassifier('cascades/haarcascade_frontalface_alt2.xml')\n",
    "# IMG_SIZE = 1850 \n",
    "WIDTH = 64 \n",
    "HEIGHT = 64\n",
    "# cap = cv2.VideoCapture(0) \n",
    "img = cv2.imread('../dataset/test.jpg')\n",
    "while True: \n",
    "    # ret, frame = cap.read()\n",
    "    gray = cv2.cvtColor(img, cv2.COLOR_BGR2GRAY)\n",
    "    faces = face_cascade.detectMultiScale(gray, scaleFactor=1.2, minNeighbors=5)\n",
    "    for (x, y, w, h) in faces:\n",
    "        face = gray[y:y+h, x:x+w]\n",
    "        face_resized = cv2.resize(face, (WIDTH, HEIGHT))\n",
    "        face_flat = face_resized.flatten()\n",
    "        # face_flat_pca = pca.transform(face_resized)\n",
    "        face_pred = clf.predict([face_flat])\n",
    "        cv2.rectangle(img, (x, y), (x+w, y+h), (0, 255, 0), 2)\n",
    "        cv2.putText(img, str(face_pred), (x, y-10), cv2.FONT_HERSHEY_SIMPLEX, 0.9, (0, 255, 0), 2)\n",
    "    cv2.imshow('Face Recognition', img)\n",
    "    # Exit program when 'q' key is pressed\n",
    "    if cv2.waitKey(20) & 0xFF == ord('q'):\n",
    "        break\n",
    "  \n",
    "cv2.waitKey(0)\n",
    "cv2.destroyAllWindows()"
   ]
  }
 ],
 "metadata": {
  "kernelspec": {
   "display_name": "Python 3",
   "language": "python",
   "name": "python3"
  },
  "language_info": {
   "name": "python",
   "version": "3.11.0"
  },
  "orig_nbformat": 4
 },
 "nbformat": 4,
 "nbformat_minor": 2
}
